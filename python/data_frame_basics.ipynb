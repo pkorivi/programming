{
 "cells": [
  {
   "cell_type": "code",
   "execution_count": 3,
   "id": "c1958e67",
   "metadata": {},
   "outputs": [],
   "source": [
    "import pandas as pd"
   ]
  },
  {
   "cell_type": "code",
   "execution_count": 10,
   "id": "921898c7",
   "metadata": {},
   "outputs": [
    {
     "name": "stdout",
     "output_type": "stream",
     "text": [
      "{'Name': ['A', 'B', 'C', 'D', 'E'], 'Age': [1, 2, 3, 4, 5]}\n"
     ]
    }
   ],
   "source": [
    "data = {'Name' : ['A', 'B', 'C', 'D', 'E'],\n",
    "        'Age'  : [1,2,3,4,5] }\n",
    "print(data)"
   ]
  },
  {
   "cell_type": "code",
   "execution_count": 33,
   "id": "76b49039",
   "metadata": {},
   "outputs": [
    {
     "name": "stdout",
     "output_type": "stream",
     "text": [
      "  Name  Age\n",
      "0    A    1\n",
      "1    B    2\n",
      "2    C    3\n",
      "3    D    4\n",
      "4    E    5\n",
      "  Name\n",
      "0    A\n",
      "1    B\n",
      "2    C\n",
      "3    D\n",
      "4    E\n",
      "Name    B\n",
      "Age     2\n",
      "Name: 1, dtype: object\n",
      "  Name\n",
      "0    A\n",
      "1    B\n",
      "2    C\n",
      "3    D\n",
      "4    E\n",
      "  Name name2\n",
      "0    A     A\n",
      "1    B     B\n",
      "2    C     C\n",
      "3    D     D\n",
      "4    E     E\n",
      "-    name name2\n",
      "0    A     A\n",
      "1    B     B\n",
      "2    C     C\n",
      "3    D     D\n",
      "4    E     E\n"
     ]
    }
   ],
   "source": [
    "df = pd.DataFrame(data)\n",
    "print(df)\n",
    "print(df[['Name']])\n",
    "#print(df['Name'])\n",
    "\n",
    "print(df.loc[1])\n",
    "\n",
    "del df['Age']\n",
    "print(df)\n",
    "\n",
    "df.insert(1, 'name2', df['Name'])\n",
    "print(df)\n",
    "\n",
    "\n",
    "newcols = {\n",
    "    'Name': 'name',\n",
    "    'Age': 'age'\n",
    "}\n",
    "\n",
    "df.rename(columns=newcols, inplace = True)\n",
    "print(\"- \",df)\n",
    "\n"
   ]
  },
  {
   "cell_type": "code",
   "execution_count": 41,
   "id": "5a4f9758",
   "metadata": {
    "scrolled": true
   },
   "outputs": [
    {
     "name": "stdout",
     "output_type": "stream",
     "text": [
      "     col1 col2\n",
      "Row1    1    2\n",
      "Row2    3    4\n",
      "   0  1  2\n",
      "0  1  2  3\n",
      "1  4  5  6\n",
      "   0  1  2  3\n",
      "0  8  7  9  6\n",
      "1  8  7  9  6\n"
     ]
    }
   ],
   "source": [
    "# Data frame numpy array\n",
    "import numpy as np\n",
    "\n",
    "data = np.array([['', 'col1', 'col2'],\n",
    "                 ['Row1',1,2],\n",
    "                 ['Row2',3,4]])\n",
    "\n",
    "df = pd.DataFrame(data=data[1:,1:],\n",
    "                 index=data[1:,0], #leave '' so it starts from 1:, same below\n",
    "                 columns=data[0,1:])\n",
    "\n",
    "df.set_index('col2')\n",
    "print(df)\n",
    "\n",
    "my_2darray = np.array([[1, 2, 3], [4, 5, 6]])\n",
    "print(pd.DataFrame(my_2darray))\n",
    "\n",
    "print(pd.DataFrame(data = [[8,7,9,6], [8,7,9,6]]))\n"
   ]
  },
  {
   "cell_type": "code",
   "execution_count": 42,
   "id": "16140551",
   "metadata": {},
   "outputs": [
    {
     "name": "stdout",
     "output_type": "stream",
     "text": [
      "   sen1  sen2  sen3\n",
      "0     1    11    21\n",
      "1     2    12    22\n",
      "2     3    13    23\n",
      "3     4    14    24\n",
      "4     5    15    25\n",
      "5     6    16    26\n",
      "6     7    17    27\n",
      "7     8    18    28\n",
      "8     9    19    29\n",
      "9    10    20    30\n"
     ]
    }
   ],
   "source": [
    "##plotting using html\n",
    "\n",
    "data = {'sen1': [1,2,3,4,5,6,7,8,9,10],\n",
    "        'sen2': [11,12,13,14,15,16,17,18,19,20],\n",
    "        'sen3': [21,22,23,24,25,26,27,28,29,30]}\n",
    "\n",
    "df = pd.DataFrame(data)\n",
    "print(df)\n",
    "\n",
    "def html_plot_of_data(df):\n",
    "    return Template()\n",
    "\n",
    "\n",
    "\n",
    "\n",
    "\n",
    "_HTML_TEMPLATE_=\"\"\"<!DOCTYPE html>\n",
    "<html lang=\"en-US\">\n",
    "    <head>\n",
    "        <meta charset=\"utf-8\">\n",
    "    <head>\n",
    "    <script src=\"https://cdn.plot.ly/plotly-2-9-0-min.js\"></script>\n",
    "    <script src=\"index.js\"></script>\n",
    "    <script>\n",
    "        window.onload = () =>{\n",
    "            var timeline = $timeline;\n",
    "            $traces\n",
    "            var layout = {\n",
    "                $subplots,\n",
    "                showlegend: true,\n",
    "            };\n",
    "            plotly.newPlot(document.getElementById('diag'),[$data], layout);\n",
    "            var options = \"\";\n",
    "            \n",
    "        }\n",
    "\"\"\"\n",
    "\n",
    "\n"
   ]
  }
 ],
 "metadata": {
  "kernelspec": {
   "display_name": "Python 3 (ipykernel)",
   "language": "python",
   "name": "python3"
  },
  "language_info": {
   "codemirror_mode": {
    "name": "ipython",
    "version": 3
   },
   "file_extension": ".py",
   "mimetype": "text/x-python",
   "name": "python",
   "nbconvert_exporter": "python",
   "pygments_lexer": "ipython3",
   "version": "3.8.10"
  }
 },
 "nbformat": 4,
 "nbformat_minor": 5
}
